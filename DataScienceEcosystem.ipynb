{
 "cells": [
  {
   "cell_type": "markdown",
   "id": "33ddafb3-144a-4408-a94b-be2287f10048",
   "metadata": {},
   "source": [
    "# Data Science Tool Ecosystem"
   ]
  },
  {
   "cell_type": "markdown",
   "id": "c771e305-422a-48fa-a854-f41f32931ea0",
   "metadata": {},
   "source": [
    "In this notebook, Data Science Tools and Ecosystem are summarized"
   ]
  },
  {
   "cell_type": "markdown",
   "id": "dc609fae-2bb4-4752-bf62-e4bed526ff9f",
   "metadata": {},
   "source": [
    "Objectives: \n",
    "- List popular languages for Data Science\n",
    "- Commonly used libraries used by data scientists\n",
    "- Data sciene tools\n",
    "- Examples of arithmetic expressions in Python"
   ]
  },
  {
   "cell_type": "markdown",
   "id": "29604c2e-d118-4fc3-9b0f-755e006ce00d",
   "metadata": {},
   "source": [
    "Some of othe popular languages that Data Scientist use are:\n",
    "\n",
    "1. Python \n",
    "2. R\n",
    "3. C++\n",
    "4. Scala \n",
    "5. Java\n",
    "6. Matlab"
   ]
  },
  {
   "cell_type": "markdown",
   "id": "3867a66f-19bc-4cce-89ac-0d124e45b706",
   "metadata": {},
   "source": [
    "Some of the commonly used libraries used by Data Scientists include:\n",
    "1. Pandas\n",
    "2. Numpy \n",
    "3. Scipy\n",
    "4. Matplotlib\n",
    "5. Apache Spark\n",
    "6. Tensorflow"
   ]
  },
  {
   "cell_type": "markdown",
   "id": "c248d7df-981e-4761-baf0-632e6ab0c38d",
   "metadata": {},
   "source": [
    "| Data Science Tools|\n",
    "| --- |  \n",
    "| Spyder |\n",
    "| Jupyter|\n",
    "| RStudio|"
   ]
  },
  {
   "cell_type": "markdown",
   "id": "c203d5a8-f6cf-4f7a-ba7e-568d509b0672",
   "metadata": {},
   "source": [
    "### Below are a few examples of evaluating arithmetic expressions in Python"
   ]
  },
  {
   "cell_type": "code",
   "execution_count": 2,
   "id": "3bf9ae05-23d4-4f32-b007-676b3404b83e",
   "metadata": {},
   "outputs": [
    {
     "data": {
      "text/plain": [
       "17"
      ]
     },
     "execution_count": 2,
     "metadata": {},
     "output_type": "execute_result"
    }
   ],
   "source": [
    "#\n",
    "(3*4)+5"
   ]
  },
  {
   "cell_type": "code",
   "execution_count": 7,
   "id": "d7b96999-447e-462c-9222-be76a73ec695",
   "metadata": {},
   "outputs": [
    {
     "name": "stdout",
     "output_type": "stream",
     "text": [
      "200 minutes are 3.3333333333333335 hours\n"
     ]
    }
   ],
   "source": [
    "# This will convert 200 minutes to hours by diving by 60\n",
    "print('200 minutes are ' +str(200/60) + ' hours')"
   ]
  },
  {
   "cell_type": "markdown",
   "id": "16ea3ad2-c280-4704-8871-6191def3bbf1",
   "metadata": {},
   "source": [
    "## Author\n",
    "Peter Böhling "
   ]
  }
 ],
 "metadata": {
  "kernelspec": {
   "display_name": "Python 3 (ipykernel)",
   "language": "python",
   "name": "python3"
  },
  "language_info": {
   "codemirror_mode": {
    "name": "ipython",
    "version": 3
   },
   "file_extension": ".py",
   "mimetype": "text/x-python",
   "name": "python",
   "nbconvert_exporter": "python",
   "pygments_lexer": "ipython3",
   "version": "3.11.5"
  }
 },
 "nbformat": 4,
 "nbformat_minor": 5
}
